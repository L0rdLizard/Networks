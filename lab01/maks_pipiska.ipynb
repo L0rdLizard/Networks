{
 "cells": [
  {
   "cell_type": "markdown",
   "metadata": {},
   "source": [
    "## Код номер 1"
   ]
  },
  {
   "cell_type": "code",
   "execution_count": 4,
   "metadata": {
    "ExecuteTime": {
     "end_time": "2024-03-18T19:12:38.791208900Z",
     "start_time": "2024-03-18T19:12:15.994534300Z"
    }
   },
   "outputs": [
    {
     "name": "stdout",
     "output_type": "stream",
     "text": [
      "Верхняя оценка вероятности ошибки декодирования: 0.000481\n",
      "Точное значение вероятности ошибки декодирования: 0.000481\n"
     ]
    }
   ],
   "source": [
    "import numpy as np\n",
    "from scipy.special import comb\n",
    "\n",
    "def upper_bound_error_probability(n, p, d):\n",
    "    upper_bound = 1 - sum(comb(n, i) * (p ** i) * ((1 - p) ** (n - i)) for i in range(d))\n",
    "    return upper_bound\n",
    "\n",
    "def exact_error_probability(n, p, d):\n",
    "    exact_probability = sum(comb(n, i) * (p ** i) * ((1 - p) ** (n - i)) for i in range(d, n + 1))\n",
    "    return exact_probability\n",
    "\n",
    "def main():\n",
    "    # Ввод данных для работы программы\n",
    "    n = int(input(\"Введите длину кодового слова (n): \"))\n",
    "    p = float(input(\"Введите вероятность ошибки в канале (p): \"))\n",
    "    d = int(input(\"Введите минимальное расстояние кода (d): \"))\n",
    "\n",
    "    # Вычисление верхней оценки вероятности ошибки декодирования\n",
    "    upper_bound = upper_bound_error_probability(n, p, d)\n",
    "\n",
    "    # Вычисление точного значения вероятности ошибки декодирования\n",
    "    exact_probability = exact_error_probability(n, p, d)\n",
    "\n",
    "    # Вывод результатов\n",
    "    print(f\"Верхняя оценка вероятности ошибки декодирования: {upper_bound:.6f}\")\n",
    "    print(f\"Точное значение вероятности ошибки декодирования: {exact_probability:.6f}\")\n",
    "\n",
    "if __name__ == \"__main__\":\n",
    "    main()\n"
   ]
  },
  {
   "cell_type": "markdown",
   "metadata": {},
   "source": [
    "^ на данных 4, 0.5, 2"
   ]
  },
  {
   "cell_type": "markdown",
   "metadata": {},
   "source": [
    "## Код номер 2"
   ]
  },
  {
   "cell_type": "code",
   "execution_count": 7,
   "metadata": {
    "ExecuteTime": {
     "end_time": "2024-03-18T19:23:19.951064Z",
     "start_time": "2024-03-18T19:23:19.931491100Z"
    }
   },
   "outputs": [
    {
     "name": "stdout",
     "output_type": "stream",
     "text": [
      "Точное значение вероятности ошибки декодирования: 0.1875\n",
      "Верхняя оценка вероятности ошибки декодирования: 0.3125\n"
     ]
    }
   ],
   "source": [
    "import numpy as np\n",
    "from scipy.special import comb\n",
    "\n",
    "def calculate_error_probability(p, d, n, A):\n",
    "    # Вычисление точного значения вероятности ошибки декодирования\n",
    "    P_e = np.sum([A[i] * (p**i) * ((1-p)**(n-i)) for i in range(d, n+1)])\n",
    "\n",
    "    # Вычисление верхней оценки вероятности ошибки декодирования\n",
    "    P_e_upper = 1 - np.sum([comb(n, i) * (p**i) * ((1-p)**(n-i)) for i in range(d)])\n",
    "\n",
    "    return P_e, P_e_upper\n",
    "\n",
    "# Заданные параметры\n",
    "p = 0.5  # вероятность ошибки в канале\n",
    "d = 3    # минимальное расстояние кода\n",
    "n = 4    # длина кодового слова\n",
    "A = [0, 0, 0, 1, 2, 4, 8, 16]  # количество кодовых слов с весом i\n",
    "\n",
    "P_e, P_e_upper = calculate_error_probability(p, d, n, A)\n",
    "\n",
    "print(f\"Точное значение вероятности ошибки декодирования: {P_e}\")\n",
    "print(f\"Верхняя оценка вероятности ошибки декодирования: {P_e_upper}\")"
   ]
  },
  {
   "cell_type": "markdown",
   "metadata": {},
   "source": [
    "пояснение к нему от гпт:"
   ]
  },
  {
   "cell_type": "markdown",
   "metadata": {},
   "source": [
    "Этот код вычисляет точное значение вероятности ошибки декодирования и верхнюю оценку вероятности ошибки декодирования на основе заданных параметров. Пожалуйста, замените значения p, d, n и A на соответствующие значения для вашей задачи. Обратите внимание, что A - это список, где A[i] - это количество кодовых слов с весом i. В этом примере мы предполагаем, что есть 1 кодовое слово веса 3, 2 кодовых слова веса 4 и т.д. до 16 кодовых слов веса 7. Замените это на соответствующие значения для вашей задачи. "
   ]
  },
  {
   "cell_type": "markdown",
   "metadata": {},
   "source": [
    "# собака балабака"
   ]
  },
  {
   "cell_type": "markdown",
   "metadata": {},
   "source": [
    "![](https://media1.tenor.com/m/A39bqECyaMYAAAAC/dog.gif)"
   ]
  },
  {
   "cell_type": "code",
   "execution_count": 5,
   "outputs": [],
   "source": [],
   "metadata": {
    "collapsed": false,
    "ExecuteTime": {
     "end_time": "2024-03-18T19:12:38.819203700Z",
     "start_time": "2024-03-18T19:12:38.786238500Z"
    }
   }
  }
 ],
 "metadata": {
  "kernelspec": {
   "display_name": "Python 3",
   "language": "python",
   "name": "python3"
  },
  "language_info": {
   "codemirror_mode": {
    "name": "ipython",
    "version": 3
   },
   "file_extension": ".py",
   "mimetype": "text/x-python",
   "name": "python",
   "nbconvert_exporter": "python",
   "pygments_lexer": "ipython3",
   "version": "3.11.0"
  }
 },
 "nbformat": 4,
 "nbformat_minor": 2
}
